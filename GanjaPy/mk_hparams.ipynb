{
 "cells": [
  {
   "cell_type": "code",
   "execution_count": 37,
   "metadata": {},
   "outputs": [],
   "source": [
    "baseline = {\n",
    "    \"ntrain\": [\"4\"],\n",
    "    \"valid_frac\": [\"1\"],\n",
    "    \"batch_size\": [\"256\"],\n",
    "    \"epochs\": [\"18\"],\n",
    "    \"loss\": [\"SoftMaskWeightedMeanSquaredErrorWithTotal\"],\n",
    "    \"soft_mask\": [\"True\"],    \n",
    "    \"disc_do_total\": [\"True\"],\n",
    "    \n",
    "    \"loss_weight\": [\"1.0\"], # lambda\n",
    "    \"loss_tau\":  [\"1e-05\"], # tau \n",
    "    \"gan_total_weight\":  [\"4.5\"], # mu\n",
    "    \"lr_decay_disc\":  [\"6e-08\"],\n",
    "    \"lr_decay_gen\":  [\"6e-08\"],\n",
    "    \n",
    "    \"noise_dim\": [\"0\"],\n",
    "\n",
    "    \"nfilters\": [\"8\"],\n",
    "    \"gen_filter_size\" : [ \"3\" ],\n",
    "#     \"encoding_filter_size\": 3,\n",
    "#     \"decoding_filter_size\": 3,\n",
    "    \"disc_nfilters\": [ \"4\" ],\n",
    "    \"disc_total_layers\": [ \"64,64,32,16\" ],\n",
    "}\n",
    "\n",
    "scan_1 = {\n",
    "    \n",
    "    \"loss_weight\": [ \"1.0\", \"0.8\", \"1.2\" ],\n",
    "    \"loss_tau\": [ \"1e-05\", \"8e-6\", \"1.2e-5\" ],\n",
    "    \"gan_total_weight\": [ \"4.5\", \"5.0\", \"5.5\" ],\n",
    "    \"lr_decay_disc\": [ \"6e-08\", \"1e-7\", \"4e-8\" ], \n",
    "    \"lr_decay_gen\":  [ \"6e-08\", \"1e-7\", \"4e-8\" ]\n",
    "} ## 243\n",
    "\n",
    "\n",
    "scan_2 = {\n",
    "    \"noise_dim\": [ \"0\", \"5\", \"10\" ],\n",
    "    \"nfilters\": [ \"8\", \"6\", \"10\" ],\n",
    "    \"gen_filter_size\": [ \"3\", \"5\" ],   \n",
    "#     \"encoding_filter_size\": [ 3, 5 ],\n",
    "#     \"decoding_filter_size\": [ 3, 5 ],\n",
    "    \"disc_nfilters\": [ \"4\", \"5\", \"6\"],\n",
    "    \"disc_total_layers\": [ \"64,64,32,16\", \"64,32,16,8\" ]\n",
    "} ## 324\n"
   ]
  },
  {
   "cell_type": "code",
   "execution_count": 38,
   "metadata": {},
   "outputs": [],
   "source": [
    "from copy import copy"
   ]
  },
  {
   "cell_type": "code",
   "execution_count": 39,
   "metadata": {},
   "outputs": [],
   "source": [
    "grid_1 = copy(baseline)\n",
    "grid_1.update(scan_1)\n",
    "\n",
    "grid_2 = copy(baseline)\n",
    "grid_2.update(scan_2)\n"
   ]
  },
  {
   "cell_type": "code",
   "execution_count": 40,
   "metadata": {},
   "outputs": [
    {
     "data": {
      "text/plain": [
       "{'batch_size': ['256'],\n",
       " 'disc_do_total': ['True'],\n",
       " 'disc_nfilters': ['4'],\n",
       " 'disc_total_layers': ['64,64,32,16'],\n",
       " 'epochs': ['18'],\n",
       " 'gan_total_weight': ['4.5', '5.0', '5.5'],\n",
       " 'gen_filter_size': ['3'],\n",
       " 'loss': ['SoftMaskWeightedMeanSquaredErrorWithTotal'],\n",
       " 'loss_tau': ['1e-05', '8e-6', '1.2e-5'],\n",
       " 'loss_weight': ['1.0', '0.8', '1.2'],\n",
       " 'lr_decay_disc': ['6e-08', '1e-7', '4e-8'],\n",
       " 'lr_decay_gen': ['6e-08', '1e-7', '4e-8'],\n",
       " 'nfilters': ['8'],\n",
       " 'noise_dim': ['0'],\n",
       " 'ntrain': ['4'],\n",
       " 'soft_mask': ['True'],\n",
       " 'valid_frac': ['1']}"
      ]
     },
     "execution_count": 40,
     "metadata": {},
     "output_type": "execute_result"
    }
   ],
   "source": [
    "grid_1"
   ]
  },
  {
   "cell_type": "code",
   "execution_count": 41,
   "metadata": {},
   "outputs": [
    {
     "data": {
      "text/plain": [
       "{'batch_size': ['256'],\n",
       " 'disc_do_total': ['True'],\n",
       " 'disc_nfilters': ['4', '5', '6'],\n",
       " 'disc_total_layers': ['64,64,32,16', '64,32,16,8'],\n",
       " 'epochs': ['18'],\n",
       " 'gan_total_weight': ['4.5'],\n",
       " 'gen_filter_size': ['3', '5'],\n",
       " 'loss': ['SoftMaskWeightedMeanSquaredErrorWithTotal'],\n",
       " 'loss_tau': ['1e-05'],\n",
       " 'loss_weight': ['1.0'],\n",
       " 'lr_decay_disc': ['6e-08'],\n",
       " 'lr_decay_gen': ['6e-08'],\n",
       " 'nfilters': ['8', '6', '10'],\n",
       " 'noise_dim': ['0', '5', '10'],\n",
       " 'ntrain': ['4'],\n",
       " 'soft_mask': ['True'],\n",
       " 'valid_frac': ['1']}"
      ]
     },
     "execution_count": 41,
     "metadata": {},
     "output_type": "execute_result"
    }
   ],
   "source": [
    "grid_2"
   ]
  },
  {
   "cell_type": "code",
   "execution_count": 42,
   "metadata": {},
   "outputs": [],
   "source": [
    "from sklearn.model_selection import ParameterSampler"
   ]
  },
  {
   "cell_type": "code",
   "execution_count": 43,
   "metadata": {},
   "outputs": [],
   "source": [
    "sampler_1 = ParameterSampler(grid_1, 25)\n",
    "sampler_2 = ParameterSampler(grid_2, 25)\n"
   ]
  },
  {
   "cell_type": "code",
   "execution_count": 44,
   "metadata": {
    "scrolled": false
   },
   "outputs": [],
   "source": [
    "def mk_cmdline(params):\n",
    "    \n",
    "    gen_filter_size = params.pop(\"gen_filter_size\")\n",
    "    params[\"encoding_filter_size\"] = gen_filter_size\n",
    "    params[\"decoding_filter_size\"] = gen_filter_size\n",
    "    \n",
    "    return \" \".join( [ \"--Parameters.%s=%s\" % (x[0],x[1]) for x in params.items() ]  )\n",
    "    "
   ]
  },
  {
   "cell_type": "code",
   "execution_count": 45,
   "metadata": {},
   "outputs": [],
   "source": [
    "from random import shuffle\n",
    "\n",
    "cmdlines = [ mk_cmdline(x) for x in sampler_1 ] + [ mk_cmdline(x) for x in sampler_2 ] \n",
    "shuffle(cmdlines)\n"
   ]
  },
  {
   "cell_type": "code",
   "execution_count": 49,
   "metadata": {
    "scrolled": false
   },
   "outputs": [],
   "source": [
    "with open(\"submit_batch.sh\",\"w+\") as fout:\n",
    "    for ijob,cmdline in enumerate(cmdlines):\n",
    "        fout.write(\"sbatch my_job.sh -J scan_job%d python train_gan.py --Parameters.monitor_dir=log/scan_job%d %s\\n\" % (ijob,ijob,cmdline) )\n",
    "    fout.close()"
   ]
  },
  {
   "cell_type": "code",
   "execution_count": null,
   "metadata": {},
   "outputs": [],
   "source": []
  }
 ],
 "metadata": {
  "kernelspec": {
   "display_name": "Python 3",
   "language": "python",
   "name": "python3"
  },
  "language_info": {
   "codemirror_mode": {
    "name": "ipython",
    "version": 3
   },
   "file_extension": ".py",
   "mimetype": "text/x-python",
   "name": "python",
   "nbconvert_exporter": "python",
   "pygments_lexer": "ipython3",
   "version": "3.5.2"
  }
 },
 "nbformat": 4,
 "nbformat_minor": 2
}
